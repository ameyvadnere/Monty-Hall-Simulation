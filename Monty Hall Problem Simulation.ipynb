{
 "cells": [
  {
   "cell_type": "code",
   "execution_count": 70,
   "metadata": {},
   "outputs": [],
   "source": [
    "# Following is a simulation of the generalized Monty Hall Problem with m doors, proving that switching from one's original\n",
    "# choice is always the optimal strategy, with the probability of winning equal to (m-1)/m upon switching."
   ]
  },
  {
   "cell_type": "code",
   "execution_count": 3,
   "metadata": {},
   "outputs": [],
   "source": [
    "import random"
   ]
  },
  {
   "cell_type": "code",
   "execution_count": 75,
   "metadata": {},
   "outputs": [],
   "source": [
    "# One game with m doors\n",
    "def trial(m):\n",
    "    \n",
    "    # Setting one out of the m doors as the winning door, marked with 1, else 0.\n",
    "    doors = [0]*m                                   \n",
    "    doors[random.randint(0,m-1)] = 1\n",
    "    \n",
    "    # The player's initial choice\n",
    "    choice = random.randint(0,m-1)\n",
    "    \n",
    "    # All the door nos except the one the player chose\n",
    "    rem_doors = []\n",
    "    for i in range(m):\n",
    "        if i != choice: rem_doors.append(i)\n",
    "\n",
    "    # Marking all the remaining doors which do not contain the car with -1. There will be m-2 such doors. \n",
    "    count_of_open_doors = 0\n",
    "    for door_no in rem_doors:\n",
    "        if doors[door_no] == 0 and count_of_open_doors < m-2:\n",
    "            doors[door_no] = -1\n",
    "            count_of_open_doors += 1\n",
    "    \n",
    "    # Always switch\n",
    "    for i in range(m):\n",
    "        if doors[i] != -1 and i != choice:\n",
    "            new_choice = i\n",
    "            break\n",
    "    \n",
    "    return doors[new_choice]"
   ]
  },
  {
   "cell_type": "code",
   "execution_count": 76,
   "metadata": {},
   "outputs": [],
   "source": [
    "# Simulate the game n times to get an estimate for the probability of winning after switching.\n",
    "def experiment(n, m):\n",
    "    wins = 0\n",
    "    for i in range(n):\n",
    "        wins += trial(m)\n",
    "    return wins/n"
   ]
  },
  {
   "cell_type": "code",
   "execution_count": 83,
   "metadata": {},
   "outputs": [
    {
     "data": {
      "text/plain": [
       "0.80044"
      ]
     },
     "execution_count": 83,
     "metadata": {},
     "output_type": "execute_result"
    }
   ],
   "source": [
    "experiment(100000, 5)"
   ]
  }
 ],
 "metadata": {
  "kernelspec": {
   "display_name": "Python 3",
   "language": "python",
   "name": "python3"
  },
  "language_info": {
   "codemirror_mode": {
    "name": "ipython",
    "version": 3
   },
   "file_extension": ".py",
   "mimetype": "text/x-python",
   "name": "python",
   "nbconvert_exporter": "python",
   "pygments_lexer": "ipython3",
   "version": "3.7.1"
  }
 },
 "nbformat": 4,
 "nbformat_minor": 2
}
